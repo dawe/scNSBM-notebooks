{
 "cells": [
  {
   "cell_type": "code",
   "execution_count": 1,
   "id": "round-croatia",
   "metadata": {},
   "outputs": [
    {
     "name": "stdout",
     "output_type": "stream",
     "text": [
      "Using matplotlib backend: MacOSX\n",
      "Populating the interactive namespace from numpy and matplotlib\n"
     ]
    }
   ],
   "source": [
    "import scanpy as sc\n",
    "import schist as scs\n",
    "import pandas as pd\n",
    "import time\n",
    "%pylab\n",
    "%matplotlib inline"
   ]
  },
  {
   "cell_type": "code",
   "execution_count": 2,
   "id": "russian-updating",
   "metadata": {},
   "outputs": [],
   "source": [
    "technology = ['10XV3', 'Quartzseq', 'MARSseq', 'iCELL8']\n",
    "times = pd.DataFrame(0, index=technology, columns=['NSBM', 'PPBM', 'Leiden'])"
   ]
  },
  {
   "cell_type": "code",
   "execution_count": 8,
   "id": "defensive-collective",
   "metadata": {},
   "outputs": [],
   "source": [
    "sc.settings.verbosity=2"
   ]
  },
  {
   "cell_type": "code",
   "execution_count": 9,
   "id": "hollow-brush",
   "metadata": {},
   "outputs": [
    {
     "name": "stderr",
     "output_type": "stream",
     "text": [
      "running Leiden clustering\n",
      "    finished (0:00:24)\n",
      "minimizing the Planted Partition Block Model\n",
      "/Users/cittaro.davide/anaconda3/envs/experimental/lib/python3.8/site-packages/joblib/externals/loky/process_executor.py:688: UserWarning: A worker stopped while some jobs were given to the executor. This can be caused by a too short worker timeout or by a memory leak.\n",
      "  warnings.warn(\n",
      "    done (0:01:33)\n",
      "    finished (0:01:34)\n",
      "minimizing the nested Stochastic Block Model\n",
      "    done (0:03:28)\n",
      "    finished (0:03:29)\n",
      "running Leiden clustering\n",
      "    finished (0:00:16)\n",
      "minimizing the Planted Partition Block Model\n",
      "    done (0:00:30)\n",
      "    finished (0:00:30)\n",
      "minimizing the nested Stochastic Block Model\n",
      "    done (0:02:10)\n",
      "    finished (0:02:10)\n",
      "running Leiden clustering\n",
      "    finished (0:00:24)\n",
      "minimizing the Planted Partition Block Model\n",
      "    done (0:01:09)\n",
      "    finished (0:01:09)\n",
      "minimizing the nested Stochastic Block Model\n",
      "    done (0:06:10)\n",
      "    finished (0:06:10)\n",
      "running Leiden clustering\n",
      "    finished (0:00:34)\n",
      "minimizing the Planted Partition Block Model\n",
      "    done (0:01:31)\n",
      "    finished (0:01:31)\n",
      "minimizing the nested Stochastic Block Model\n",
      "    done (0:09:05)\n",
      "    finished (0:09:06)\n"
     ]
    }
   ],
   "source": [
    "for t in technology:\n",
    "    adata = sc.read(f\"{t}_075.h5ad\")\n",
    "    s = time.time()\n",
    "    scs.inference.leiden(adata)\n",
    "    e = time.time()\n",
    "    times.loc[t, 'Leiden'] = e - s\n",
    "    s = time.time()\n",
    "    scs.inference.planted_model(adata)\n",
    "    e = time.time()\n",
    "    times.loc[t, 'PPBM'] = e - s\n",
    "    s = time.time()\n",
    "    scs.inference.nested_model(adata)\n",
    "    e = time.time()\n",
    "    times.loc[t, 'NSBM'] = e - s    "
   ]
  },
  {
   "cell_type": "code",
   "execution_count": 10,
   "id": "returning-catering",
   "metadata": {},
   "outputs": [
    {
     "data": {
      "text/html": [
       "<div>\n",
       "<style scoped>\n",
       "    .dataframe tbody tr th:only-of-type {\n",
       "        vertical-align: middle;\n",
       "    }\n",
       "\n",
       "    .dataframe tbody tr th {\n",
       "        vertical-align: top;\n",
       "    }\n",
       "\n",
       "    .dataframe thead th {\n",
       "        text-align: right;\n",
       "    }\n",
       "</style>\n",
       "<table border=\"1\" class=\"dataframe\">\n",
       "  <thead>\n",
       "    <tr style=\"text-align: right;\">\n",
       "      <th></th>\n",
       "      <th>NSBM</th>\n",
       "      <th>PPBM</th>\n",
       "      <th>Leiden</th>\n",
       "    </tr>\n",
       "  </thead>\n",
       "  <tbody>\n",
       "    <tr>\n",
       "      <th>10XV3</th>\n",
       "      <td>209.437782</td>\n",
       "      <td>94.105463</td>\n",
       "      <td>24.403320</td>\n",
       "    </tr>\n",
       "    <tr>\n",
       "      <th>Quartzseq</th>\n",
       "      <td>130.632305</td>\n",
       "      <td>30.853019</td>\n",
       "      <td>16.178420</td>\n",
       "    </tr>\n",
       "    <tr>\n",
       "      <th>MARSseq</th>\n",
       "      <td>371.020038</td>\n",
       "      <td>70.079823</td>\n",
       "      <td>24.761474</td>\n",
       "    </tr>\n",
       "    <tr>\n",
       "      <th>iCELL8</th>\n",
       "      <td>546.242520</td>\n",
       "      <td>91.833160</td>\n",
       "      <td>34.442437</td>\n",
       "    </tr>\n",
       "  </tbody>\n",
       "</table>\n",
       "</div>"
      ],
      "text/plain": [
       "                 NSBM       PPBM     Leiden\n",
       "10XV3      209.437782  94.105463  24.403320\n",
       "Quartzseq  130.632305  30.853019  16.178420\n",
       "MARSseq    371.020038  70.079823  24.761474\n",
       "iCELL8     546.242520  91.833160  34.442437"
      ]
     },
     "execution_count": 10,
     "metadata": {},
     "output_type": "execute_result"
    }
   ],
   "source": [
    "times"
   ]
  },
  {
   "cell_type": "code",
   "execution_count": 11,
   "id": "facial-level",
   "metadata": {},
   "outputs": [],
   "source": [
    "gprop = pd.DataFrame(0, index=technology, columns=['num_vertices', 'num_edges'])\n",
    "for t in technology:\n",
    "    adata = scs.io.read(f\"{t}_075\")\n",
    "    g = adata.uns['schist']['state'].g\n",
    "    gprop.loc[t] = [g.num_vertices(), g.num_edges()]"
   ]
  },
  {
   "cell_type": "code",
   "execution_count": 13,
   "id": "transsexual-melbourne",
   "metadata": {},
   "outputs": [],
   "source": [
    "results = pd.concat([gprop, times], axis=1)"
   ]
  },
  {
   "cell_type": "code",
   "execution_count": 20,
   "id": "regional-oasis",
   "metadata": {},
   "outputs": [
    {
     "data": {
      "image/png": "[encoded data removed]",
      "text/plain": [
       "<Figure size 432x288 with 1 Axes>"
      ]
     },
     "metadata": {
      "needs_background": "light"
     },
     "output_type": "display_data"
    }
   ],
   "source": [
    "scatter(results['num_vertices'], results['NSBM'])\n",
    "scatter(results['num_vertices'], results['PPBM'])\n",
    "scatter(results['num_vertices'], results['Leiden'])\n",
    "yscale('log')"
   ]
  },
  {
   "cell_type": "code",
   "execution_count": 19,
   "id": "historic-jamaica",
   "metadata": {},
   "outputs": [
    {
     "data": {
      "image/png": "[encoded data removed]",
      "text/plain": [
       "<Figure size 432x288 with 1 Axes>"
      ]
     },
     "metadata": {
      "needs_background": "light"
     },
     "output_type": "display_data"
    }
   ],
   "source": [
    "scatter(results['num_edges'], results['NSBM'])\n",
    "scatter(results['num_edges'], results['PPBM'])\n",
    "scatter(results['num_edges'], results['Leiden'])\n",
    "yscale('log')"
   ]
  },
  {
   "cell_type": "code",
   "execution_count": 21,
   "id": "essential-filename",
   "metadata": {},
   "outputs": [],
   "source": [
    "results.to_pickle(\"Results_HCA.pickle\")"
   ]
  },
  {
   "cell_type": "code",
   "execution_count": 22,
   "id": "enhanced-toyota",
   "metadata": {},
   "outputs": [
    {
     "name": "stderr",
     "output_type": "stream",
     "text": [
      "WARNING: In Scanpy 0.*, this returned logarithmized data. Now it returns non-logarithmized data.\n",
      "... storing 'paul15_clusters' as categorical\n",
      "/Users/cittaro.davide/anaconda3/envs/experimental/lib/python3.8/site-packages/pandas/core/arrays/categorical.py:2487: FutureWarning: The `inplace` parameter in pandas.Categorical.remove_unused_categories is deprecated and will be removed in a future version.\n",
      "  res = method(*args, **kwargs)\n",
      "Trying to set attribute `.uns` of view, copying.\n"
     ]
    }
   ],
   "source": [
    "adata = sc.datasets.paul15()"
   ]
  },
  {
   "cell_type": "code",
   "execution_count": 35,
   "id": "finnish-circle",
   "metadata": {},
   "outputs": [
    {
     "data": {
      "text/plain": [
       "26"
      ]
     },
     "execution_count": 35,
     "metadata": {},
     "output_type": "execute_result"
    }
   ],
   "source": [
    "int(np.sqrt(adata.shape[0])/2)"
   ]
  },
  {
   "cell_type": "code",
   "execution_count": 24,
   "id": "satisfactory-cloud",
   "metadata": {},
   "outputs": [
    {
     "name": "stderr",
     "output_type": "stream",
     "text": [
      "computing PCA\n",
      "    with n_comps=50\n",
      "    finished (0:00:01)\n",
      "computing neighbors\n",
      "    using 'X_pca' with n_pcs = 50\n",
      "    finished (0:00:17)\n"
     ]
    }
   ],
   "source": [
    "sc.tl.pca(adata)\n",
    "sc.pp.neighbors(adata, n_neighbors=int(np.sqrt(adata.shape[0])/2))"
   ]
  },
  {
   "cell_type": "code",
   "execution_count": 25,
   "id": "sudden-treaty",
   "metadata": {},
   "outputs": [
    {
     "name": "stderr",
     "output_type": "stream",
     "text": [
      "running Leiden clustering\n",
      "    finished (0:01:21)\n"
     ]
    }
   ],
   "source": [
    "s = time.time()\n",
    "scs.inference.leiden(adata)\n",
    "e = time.time()\n",
    "times.loc['Paul15', 'Leiden'] = e - s\n",
    "\n",
    "\n",
    "\n",
    "s = time.time()\n",
    "scs.inference.planted_model(adata)\n",
    "e = time.time()\n",
    "times.loc['Paul15', 'PPBM'] = e - s\n",
    "s = time.time()\n",
    "scs.inference.nested_model(adata)\n",
    "e = time.time()\n",
    "times.loc['Paul15', 'NSBM'] = e - s\n",
    "\n",
    "\n",
    "\n",
    "\n",
    "\n"
   ]
  },
  {
   "cell_type": "code",
   "execution_count": 28,
   "id": "speaking-result",
   "metadata": {},
   "outputs": [],
   "source": [
    "g = adata.uns['schist']['state'].g"
   ]
  },
  {
   "cell_type": "code",
   "execution_count": 29,
   "id": "unable-estate",
   "metadata": {},
   "outputs": [],
   "source": [
    "gprop.loc['Paul15', 'num_vertices'] = g.num_vertices()\n",
    "gprop.loc['Paul15', 'num_edges'] = g.num_edges()"
   ]
  },
  {
   "cell_type": "code",
   "execution_count": 31,
   "id": "framed-button",
   "metadata": {},
   "outputs": [],
   "source": [
    "results = pd.concat([gprop, times], axis=1)"
   ]
  },
  {
   "cell_type": "code",
   "execution_count": 33,
   "id": "minimal-acoustic",
   "metadata": {},
   "outputs": [],
   "source": [
    "results.to_pickle(\"Timing_results.pickle\")"
   ]
  },
  {
   "cell_type": "code",
   "execution_count": 42,
   "id": "virgin-syntax",
   "metadata": {},
   "outputs": [
    {
     "name": "stderr",
     "output_type": "stream",
     "text": [
      "computing neighbors\n",
      "    using 'X_pca' with n_pcs = 50\n",
      "    finished (0:00:02)\n"
     ]
    }
   ],
   "source": [
    "adata = sc.read(\"planaria.h5ad\")\n",
    "sc.pp.neighbors(adata, n_neighbors=10)\n",
    "\n"
   ]
  },
  {
   "cell_type": "code",
   "execution_count": 43,
   "id": "invalid-center",
   "metadata": {},
   "outputs": [],
   "source": [
    "results.loc['Planaria'] = 0"
   ]
  },
  {
   "cell_type": "code",
   "execution_count": 44,
   "id": "conscious-updating",
   "metadata": {},
   "outputs": [],
   "source": [
    "g = scs._utils.get_graph_tool_from_adjacency(adata.obsp['connectivities'], directed=False)"
   ]
  },
  {
   "cell_type": "code",
   "execution_count": 45,
   "id": "respected-madness",
   "metadata": {},
   "outputs": [],
   "source": [
    "results.loc['Planaria', ['num_vertices', 'num_edges']] = g.num_vertices(), g.num_edges()"
   ]
  },
  {
   "cell_type": "code",
   "execution_count": 46,
   "id": "leading-writer",
   "metadata": {},
   "outputs": [
    {
     "data": {
      "text/html": [
       "<div>\n",
       "<style scoped>\n",
       "    .dataframe tbody tr th:only-of-type {\n",
       "        vertical-align: middle;\n",
       "    }\n",
       "\n",
       "    .dataframe tbody tr th {\n",
       "        vertical-align: top;\n",
       "    }\n",
       "\n",
       "    .dataframe thead th {\n",
       "        text-align: right;\n",
       "    }\n",
       "</style>\n",
       "<table border=\"1\" class=\"dataframe\">\n",
       "  <thead>\n",
       "    <tr style=\"text-align: right;\">\n",
       "      <th></th>\n",
       "      <th>num_vertices</th>\n",
       "      <th>num_edges</th>\n",
       "      <th>NSBM</th>\n",
       "      <th>PPBM</th>\n",
       "      <th>Leiden</th>\n",
       "    </tr>\n",
       "  </thead>\n",
       "  <tbody>\n",
       "    <tr>\n",
       "      <th>10XV3</th>\n",
       "      <td>1523.0</td>\n",
       "      <td>21447.0</td>\n",
       "      <td>209.437782</td>\n",
       "      <td>94.105463</td>\n",
       "      <td>24.403320</td>\n",
       "    </tr>\n",
       "    <tr>\n",
       "      <th>Quartzseq</th>\n",
       "      <td>1266.0</td>\n",
       "      <td>14603.0</td>\n",
       "      <td>130.632305</td>\n",
       "      <td>30.853019</td>\n",
       "      <td>16.178420</td>\n",
       "    </tr>\n",
       "    <tr>\n",
       "      <th>MARSseq</th>\n",
       "      <td>1401.0</td>\n",
       "      <td>21756.0</td>\n",
       "      <td>371.020038</td>\n",
       "      <td>70.079823</td>\n",
       "      <td>24.761474</td>\n",
       "    </tr>\n",
       "    <tr>\n",
       "      <th>iCELL8</th>\n",
       "      <td>1830.0</td>\n",
       "      <td>30636.0</td>\n",
       "      <td>546.242520</td>\n",
       "      <td>91.833160</td>\n",
       "      <td>34.442437</td>\n",
       "    </tr>\n",
       "    <tr>\n",
       "      <th>Paul15</th>\n",
       "      <td>2730.0</td>\n",
       "      <td>51475.0</td>\n",
       "      <td>737.752539</td>\n",
       "      <td>215.315428</td>\n",
       "      <td>81.292665</td>\n",
       "    </tr>\n",
       "    <tr>\n",
       "      <th>Planaria</th>\n",
       "      <td>21612.0</td>\n",
       "      <td>173667.0</td>\n",
       "      <td>0.000000</td>\n",
       "      <td>0.000000</td>\n",
       "      <td>0.000000</td>\n",
       "    </tr>\n",
       "  </tbody>\n",
       "</table>\n",
       "</div>"
      ],
      "text/plain": [
       "           num_vertices  num_edges        NSBM        PPBM     Leiden\n",
       "10XV3            1523.0    21447.0  209.437782   94.105463  24.403320\n",
       "Quartzseq        1266.0    14603.0  130.632305   30.853019  16.178420\n",
       "MARSseq          1401.0    21756.0  371.020038   70.079823  24.761474\n",
       "iCELL8           1830.0    30636.0  546.242520   91.833160  34.442437\n",
       "Paul15           2730.0    51475.0  737.752539  215.315428  81.292665\n",
       "Planaria        21612.0   173667.0    0.000000    0.000000   0.000000"
      ]
     },
     "execution_count": 46,
     "metadata": {},
     "output_type": "execute_result"
    }
   ],
   "source": [
    "results"
   ]
  },
  {
   "cell_type": "code",
   "execution_count": 47,
   "id": "fuzzy-shell",
   "metadata": {},
   "outputs": [
    {
     "name": "stderr",
     "output_type": "stream",
     "text": [
      "running Leiden clustering\n",
      "    finished (0:06:32)\n",
      "minimizing the Planted Partition Block Model\n",
      "/Users/cittaro.davide/anaconda3/envs/experimental/lib/python3.8/site-packages/joblib/externals/loky/process_executor.py:688: UserWarning: A worker stopped while some jobs were given to the executor. This can be caused by a too short worker timeout or by a memory leak.\n",
      "  warnings.warn(\n",
      "    done (0:34:09)\n",
      "    finished (0:34:09)\n",
      "minimizing the nested Stochastic Block Model\n",
      "    done (3:17:05)\n",
      "    finished (3:17:06)\n"
     ]
    }
   ],
   "source": [
    "s = time.time()\n",
    "scs.inference.leiden(adata)\n",
    "e = time.time()\n",
    "results.loc['Planaria', 'Leiden'] = e - s\n",
    "s = time.time()\n",
    "scs.inference.planted_model(adata)\n",
    "e = time.time()\n",
    "results.loc['Planaria', 'PPBM'] = e - s\n",
    "s = time.time()\n",
    "scs.inference.nested_model(adata)\n",
    "e = time.time()\n",
    "results.loc['Planaria', 'NSBM'] = e - s\n",
    "\n",
    "\n",
    "\n",
    "\n",
    "\n",
    "\n"
   ]
  },
  {
   "cell_type": "code",
   "execution_count": 48,
   "id": "illegal-capital",
   "metadata": {},
   "outputs": [],
   "source": [
    "results.to_pickle(\"Timing_results.pickle\")"
   ]
  },
  {
   "cell_type": "code",
   "execution_count": 49,
   "id": "interim-dancing",
   "metadata": {},
   "outputs": [
    {
     "data": {
      "text/html": [
       "<div>\n",
       "<style scoped>\n",
       "    .dataframe tbody tr th:only-of-type {\n",
       "        vertical-align: middle;\n",
       "    }\n",
       "\n",
       "    .dataframe tbody tr th {\n",
       "        vertical-align: top;\n",
       "    }\n",
       "\n",
       "    .dataframe thead th {\n",
       "        text-align: right;\n",
       "    }\n",
       "</style>\n",
       "<table border=\"1\" class=\"dataframe\">\n",
       "  <thead>\n",
       "    <tr style=\"text-align: right;\">\n",
       "      <th></th>\n",
       "      <th>num_vertices</th>\n",
       "      <th>num_edges</th>\n",
       "      <th>NSBM</th>\n",
       "      <th>PPBM</th>\n",
       "      <th>Leiden</th>\n",
       "    </tr>\n",
       "  </thead>\n",
       "  <tbody>\n",
       "    <tr>\n",
       "      <th>10XV3</th>\n",
       "      <td>1523.0</td>\n",
       "      <td>21447.0</td>\n",
       "      <td>209.437782</td>\n",
       "      <td>94.105463</td>\n",
       "      <td>24.403320</td>\n",
       "    </tr>\n",
       "    <tr>\n",
       "      <th>Quartzseq</th>\n",
       "      <td>1266.0</td>\n",
       "      <td>14603.0</td>\n",
       "      <td>130.632305</td>\n",
       "      <td>30.853019</td>\n",
       "      <td>16.178420</td>\n",
       "    </tr>\n",
       "    <tr>\n",
       "      <th>MARSseq</th>\n",
       "      <td>1401.0</td>\n",
       "      <td>21756.0</td>\n",
       "      <td>371.020038</td>\n",
       "      <td>70.079823</td>\n",
       "      <td>24.761474</td>\n",
       "    </tr>\n",
       "    <tr>\n",
       "      <th>iCELL8</th>\n",
       "      <td>1830.0</td>\n",
       "      <td>30636.0</td>\n",
       "      <td>546.242520</td>\n",
       "      <td>91.833160</td>\n",
       "      <td>34.442437</td>\n",
       "    </tr>\n",
       "    <tr>\n",
       "      <th>Paul15</th>\n",
       "      <td>2730.0</td>\n",
       "      <td>51475.0</td>\n",
       "      <td>737.752539</td>\n",
       "      <td>215.315428</td>\n",
       "      <td>81.292665</td>\n",
       "    </tr>\n",
       "    <tr>\n",
       "      <th>Planaria</th>\n",
       "      <td>21612.0</td>\n",
       "      <td>173667.0</td>\n",
       "      <td>11828.548317</td>\n",
       "      <td>2052.126740</td>\n",
       "      <td>392.288606</td>\n",
       "    </tr>\n",
       "  </tbody>\n",
       "</table>\n",
       "</div>"
      ],
      "text/plain": [
       "           num_vertices  num_edges          NSBM         PPBM      Leiden\n",
       "10XV3            1523.0    21447.0    209.437782    94.105463   24.403320\n",
       "Quartzseq        1266.0    14603.0    130.632305    30.853019   16.178420\n",
       "MARSseq          1401.0    21756.0    371.020038    70.079823   24.761474\n",
       "iCELL8           1830.0    30636.0    546.242520    91.833160   34.442437\n",
       "Paul15           2730.0    51475.0    737.752539   215.315428   81.292665\n",
       "Planaria        21612.0   173667.0  11828.548317  2052.126740  392.288606"
      ]
     },
     "execution_count": 49,
     "metadata": {},
     "output_type": "execute_result"
    }
   ],
   "source": [
    "results"
   ]
  },
  {
   "cell_type": "code",
   "execution_count": 50,
   "id": "sixth-fetish",
   "metadata": {},
   "outputs": [],
   "source": [
    "scs.io.write(adata, \"Planaria_schist\")"
   ]
  },
  {
   "cell_type": "code",
   "execution_count": 64,
   "id": "prime-regard",
   "metadata": {},
   "outputs": [
    {
     "name": "stdout",
     "output_type": "stream",
     "text": [
      "0:03:29\n",
      "0:02:10\n",
      "0:06:11\n",
      "0:09:06\n",
      "0:12:17\n",
      "3:17:08\n"
     ]
    }
   ],
   "source": [
    "for i in results['NSBM']:\n",
    "    \n",
    "    h = int(i) // 3600\n",
    "    m = (int(i) // 60) - h*60\n",
    "    s = int(i) % 60 \n",
    "    print(f\"{h}:{m:02d}:{s:02d}\")\n"
   ]
  },
  {
   "cell_type": "code",
   "execution_count": null,
   "id": "hollow-grill",
   "metadata": {},
   "outputs": [],
   "source": []
  }
 ],
 "metadata": {
  "kernelspec": {
   "display_name": "Python 3",
   "language": "python",
   "name": "python3"
  },
  "language_info": {
   "codemirror_mode": {
    "name": "ipython",
    "version": 3
   },
   "file_extension": ".py",
   "mimetype": "text/x-python",
   "name": "python",
   "nbconvert_exporter": "python",
   "pygments_lexer": "ipython3",
   "version": "3.8.6"
  }
 },
 "nbformat": 4,
 "nbformat_minor": 5
}
