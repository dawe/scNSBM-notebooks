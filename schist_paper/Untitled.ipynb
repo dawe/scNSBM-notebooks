{
 "cells": [
  {
   "cell_type": "code",
   "execution_count": 1,
   "metadata": {},
   "outputs": [
    {
     "name": "stdout",
     "output_type": "stream",
     "text": [
      "Using matplotlib backend: MacOSX\n",
      "Populating the interactive namespace from numpy and matplotlib\n"
     ]
    }
   ],
   "source": [
    "import warnings\n",
    "warnings.filterwarnings(\"ignore\")\n",
    "import scanpy as sc\n",
    "import graph_tool.all as gt\n",
    "import schist as scs\n",
    "import pandas as pd\n",
    "import anndata\n",
    "import mygene\n",
    "import pickle\n",
    "import scipy.stats\n",
    "\n",
    "%pylab\n",
    "%matplotlib inline"
   ]
  },
  {
   "cell_type": "code",
   "execution_count": 2,
   "metadata": {},
   "outputs": [],
   "source": [
    "import sklearn.metrics"
   ]
  },
  {
   "cell_type": "code",
   "execution_count": 3,
   "metadata": {},
   "outputs": [],
   "source": [
    "sc.settings.verbosity=2"
   ]
  },
  {
   "cell_type": "code",
   "execution_count": 4,
   "metadata": {},
   "outputs": [],
   "source": [
    "adata = sc.read(\"planaria.h5ad\")"
   ]
  },
  {
   "cell_type": "code",
   "execution_count": 5,
   "metadata": {},
   "outputs": [
    {
     "data": {
      "text/plain": [
       "AnnData object with n_obs × n_vars = 21612 × 4900\n",
       "    obs: 'n_genes', 'n_counts'\n",
       "    var: 'n_cells', 'mean', 'std'\n",
       "    uns: 'pca'\n",
       "    obsm: 'X_pca'\n",
       "    varm: 'PCs'"
      ]
     },
     "execution_count": 5,
     "metadata": {},
     "output_type": "execute_result"
    }
   ],
   "source": [
    "adata"
   ]
  },
  {
   "cell_type": "code",
   "execution_count": null,
   "metadata": {},
   "outputs": [],
   "source": [
    "n_neighbors = int(np.sqrt(adata.shape[0])/2)\n",
    "print(n_neighbors)"
   ]
  },
  {
   "cell_type": "code",
   "execution_count": 9,
   "metadata": {},
   "outputs": [
    {
     "name": "stderr",
     "output_type": "stream",
     "text": [
      "computing neighbors\n",
      "    using 'X_pca' with n_pcs = 50\n",
      "    finished (0:00:01)\n"
     ]
    }
   ],
   "source": [
    "sc.pp.neighbors(adata, n_neighbors=10)"
   ]
  },
  {
   "cell_type": "code",
   "execution_count": 10,
   "metadata": {},
   "outputs": [],
   "source": [
    "g = scs._utils.get_graph_tool_from_adata(adata, )"
   ]
  },
  {
   "cell_type": "code",
   "execution_count": 11,
   "metadata": {},
   "outputs": [
    {
     "data": {
      "text/plain": [
       "<Graph object, undirected, with 21612 vertices and 173667 edges, 1 internal edge property, at 0x7f80f8b62dc0>"
      ]
     },
     "execution_count": 11,
     "metadata": {},
     "output_type": "execute_result"
    }
   ],
   "source": [
    "g"
   ]
  },
  {
   "cell_type": "code",
   "execution_count": 79,
   "metadata": {},
   "outputs": [
    {
     "name": "stdout",
     "output_type": "stream",
     "text": [
      "minimizing the nested Stochastic Block Model\n",
      "    done (0:10:29)\n",
      "    calculating cell affinity to groups\n",
      "    finished (0:12:30)\n",
      "minimizing the nested Stochastic Block Model\n",
      "    done (0:35:18)\n",
      "    calculating cell affinity to groups\n",
      "    finished (0:39:36)\n"
     ]
    }
   ],
   "source": [
    "schist.inference.nested_model(adata, fast_model=True, n_init=3, deg_corr=True )\n",
    "f_state = adata.uns['nsbm']['state'].copy()\n",
    "schist.inference.nested_model(adata, n_init=3, deg_corr=True)\n",
    "n_state = adata.uns['nsbm']['state'].copy()\n"
   ]
  },
  {
   "cell_type": "code",
   "execution_count": 80,
   "metadata": {},
   "outputs": [
    {
     "name": "stdout",
     "output_type": "stream",
     "text": [
      "[0.4165741254858412, 0.3641958171386267, 0.3841847121969276, 0.46575976309457706, 0.5210993892282065, 0.5130945770868036, 0.6891079030168425, 1.0, 1.0, 1.0]\n",
      "0.5887263185533249\n"
     ]
    }
   ],
   "source": [
    "po = [gt.partition_overlap(n_state.project_partition(x, 0).get_array(), \n",
    "                                     f_state.project_partition(x, 0).get_array() ) for x in range(10)]\n",
    "print(po)\n",
    "print(scipy.stats.gmean(po))"
   ]
  },
  {
   "cell_type": "code",
   "execution_count": 83,
   "metadata": {},
   "outputs": [
    {
     "name": "stdout",
     "output_type": "stream",
     "text": [
      "(860, 1596)\n",
      "minimizing the nested Stochastic Block Model\n",
      "    done (0:00:12)\n",
      "    calculating cell affinity to groups\n",
      "    finished (0:00:14)\n",
      "minimizing the nested Stochastic Block Model\n",
      "    done (0:03:32)\n",
      "    calculating cell affinity to groups\n",
      "    finished (0:03:34)\n",
      "[0.5662790697674419, 0.5593023255813954, 0.9244186046511628, 1.0, 1.0, 1.0, 1.0, 1.0, 1.0, 1.0]\n",
      "0.8844119076495874\n"
     ]
    }
   ],
   "source": [
    "adata = sc.read(\"/Users/cittaro.davide/Dropbox/Projects/NSBM/Tian/Tian_pc30_n30_dcTrue.h5ad\")\n",
    "print(adata.shape)\n",
    "schist.inference.nested_model(adata, fast_model=True, n_init=3, deg_corr=True )\n",
    "f_state = adata.uns['nsbm']['state'].copy()\n",
    "schist.inference.nested_model(adata, n_init=3, deg_corr=True)\n",
    "n_state = adata.uns['nsbm']['state'].copy()\n",
    "po = [gt.partition_overlap(n_state.project_partition(x, 0).get_array(), \n",
    "                                     f_state.project_partition(x, 0).get_array() ) for x in range(10)]\n",
    "print(po)\n",
    "print(scipy.stats.gmean(po))\n"
   ]
  },
  {
   "cell_type": "code",
   "execution_count": 84,
   "metadata": {},
   "outputs": [
    {
     "name": "stdout",
     "output_type": "stream",
     "text": [
      "(2730, 1000)\n",
      "minimizing the nested Stochastic Block Model\n",
      "    done (0:00:29)\n",
      "    calculating cell affinity to groups\n",
      "    finished (0:00:38)\n",
      "minimizing the nested Stochastic Block Model\n",
      "    done (0:07:51)\n",
      "    calculating cell affinity to groups\n",
      "    finished (0:08:14)\n",
      "[0.5157509157509158, 0.38168498168498166, 0.2893772893772894, 0.3717948717948718, 0.5, 0.7402930402930403, 0.5007326007326007, 1.0, 1.0, 1.0]\n",
      "0.5746312570693376\n"
     ]
    }
   ],
   "source": [
    "adata = sc.read(\"/Users/cittaro.davide/Dropbox/Projects/NSBM/paul15/paul15.h5ad\")\n",
    "print(adata.shape)\n",
    "schist.inference.nested_model(adata, fast_model=True, n_init=3, deg_corr=True )\n",
    "f_state = adata.uns['nsbm']['state'].copy()\n",
    "schist.inference.nested_model(adata, n_init=3, deg_corr=True)\n",
    "n_state = adata.uns['nsbm']['state'].copy()\n",
    "po = [gt.partition_overlap(n_state.project_partition(x, 0).get_array(), \n",
    "                                     f_state.project_partition(x, 0).get_array() ) for x in range(10)]\n",
    "print(po)\n",
    "print(scipy.stats.gmean(po))\n",
    "\n"
   ]
  },
  {
   "cell_type": "code",
   "execution_count": null,
   "metadata": {},
   "outputs": [],
   "source": []
  }
 ],
 "metadata": {
  "kernelspec": {
   "display_name": "Python 3",
   "language": "python",
   "name": "python3"
  },
  "language_info": {
   "codemirror_mode": {
    "name": "ipython",
    "version": 3
   },
   "file_extension": ".py",
   "mimetype": "text/x-python",
   "name": "python",
   "nbconvert_exporter": "python",
   "pygments_lexer": "ipython3",
   "version": "3.8.6"
  }
 },
 "nbformat": 4,
 "nbformat_minor": 4
}
